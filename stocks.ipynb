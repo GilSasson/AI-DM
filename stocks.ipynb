{
  "nbformat": 4,
  "nbformat_minor": 0,
  "metadata": {
    "colab": {
      "name": "stocks.ipynb",
      "provenance": [],
      "collapsed_sections": [],
      "authorship_tag": "ABX9TyPnXRgb58DiQ/DfRNb2/ZOc",
      "include_colab_link": true
    },
    "kernelspec": {
      "name": "python3",
      "display_name": "Python 3"
    },
    "language_info": {
      "name": "python"
    }
  },
  "cells": [
    {
      "cell_type": "markdown",
      "metadata": {
        "id": "view-in-github",
        "colab_type": "text"
      },
      "source": [
        "<a href=\"https://colab.research.google.com/github/GilSasson/ai/blob/main/stocks.ipynb\" target=\"_parent\"><img src=\"https://colab.research.google.com/assets/colab-badge.svg\" alt=\"Open In Colab\"/></a>"
      ]
    },
    {
      "cell_type": "markdown",
      "source": [
        "### **Applications of Artificial Intelligence and Data Mining, Prof. Avi Rosenfeld.**\n",
        "**Project:** Time series stock analysis\n",
        "\n",
        "**Students:**\n",
        "\n",
        "Gil Sasson\n",
        "\n",
        "Dor Hayat"
      ],
      "metadata": {
        "id": "X8MIz4vujjwP"
      }
    },
    {
      "cell_type": "markdown",
      "source": [
        "# **Using Keras to Build and Train Neural Networks**"
      ],
      "metadata": {
        "id": "-MhDIg4HjYlw"
      }
    },
    {
      "cell_type": "markdown",
      "source": [
        "We will use a neural network to predict if the stock price market for one of the FAANG companies goes the next day. We will start by training a Random Forest to get a performance baseline. Then we will use the Keras package to quickly build and train a neural network and compare the performance. We will see how different network structures affect the performance, training time, and level of overfitting (or underfitting).\n",
        "\n",
        "# “FAANG” companies (Facebook, Amazon, Apple, Netflix, Google)   database\n",
        "source: https://www.kaggle.com/aayushmishra1512/faang-complete-stock-data\n",
        "\n",
        "# Attributes:\n",
        "\n",
        "1. Open - opening price of the stock\n",
        "2. High - max pice of the stock for the day\n",
        "3. Low - min price of the stock for the day\n",
        "4. Close - closing price of stock for the day\n",
        "5. Volume - volume are the physical number of shares traded of that stock on a particular day\n",
        "6. Day - Sunday, Monday, ... , Saturday\n",
        "\n",
        "Adj Close - Data is adjusted using appropriate split and dividend multipliers for the closing price for the day and ce be thought of as a more accurate measure of stocks’ value. Therefore, we'll use the Adj Close values to determine if the stocks' price went up the day after. \n",
        "\n",
        "7. Raise - determines if the stocks' price went up (0 or 1)."
      ],
      "metadata": {
        "id": "INsqQ55TjCrh"
      }
    },
    {
      "cell_type": "markdown",
      "source": [
        "The “FAANG” companies Dataset has 6 numerical predictors and a binary outcome."
      ],
      "metadata": {
        "id": "G_mh5OXlFkac"
      }
    },
    {
      "cell_type": "code",
      "execution_count": 160,
      "metadata": {
        "id": "TsjL6iaORUu-"
      },
      "outputs": [],
      "source": [
        "#Preliminaries\n",
        "\n",
        "from __future__ import absolute_import, division, print_function  # Python 2/3 compatibility\n",
        "\n",
        "import warnings\n",
        "warnings.filterwarnings(\"ignore\")\n",
        "\n",
        "\n",
        "import numpy as np\n",
        "import pandas as pd\n",
        "import matplotlib.pyplot as plt\n",
        "\n",
        "from sklearn.model_selection import train_test_split\n",
        "from sklearn.preprocessing import StandardScaler, MinMaxScaler\n",
        "from sklearn.metrics import confusion_matrix, precision_recall_curve, roc_auc_score, roc_curve, accuracy_score\n",
        "from sklearn.ensemble import RandomForestClassifier\n",
        "\n",
        "import seaborn as sns\n",
        "\n",
        "%matplotlib inline"
      ]
    },
    {
      "cell_type": "code",
      "source": [
        "## Import Keras objects for Deep Learning\n",
        "\n",
        "from keras.models  import Sequential\n",
        "#from keras import backend as K\n",
        "from keras.layers import Input, Dense, Flatten, Dropout, BatchNormalization\n",
        "from tensorflow.keras.optimizers import Adam, SGD, RMSprop"
      ],
      "metadata": {
        "id": "6Uy2Ts4oLPhH"
      },
      "execution_count": 161,
      "outputs": []
    },
    {
      "cell_type": "code",
      "source": [
        "#getting the dataset\n",
        "url = 'https://raw.githubusercontent.com/GilSasson/ai/main/Apple.csv'\n",
        "df=pd.read_csv(url,  header=0, error_bad_lines=False) \n",
        "#put data in dataset without header line\n",
        "rawdataset = np.array(df)"
      ],
      "metadata": {
        "id": "44gJbr2ORvA_"
      },
      "execution_count": 162,
      "outputs": []
    },
    {
      "cell_type": "markdown",
      "source": [
        "We modified our Apple.csv file as follows:\n",
        "1. We created a binary field to show if the stock went up or down.\n",
        "2. We created a day of the month field because of the strong dependant of the stock's price because of trading days, holidays, et cetera.\n",
        "\n",
        "Note: This algorithm does not take into account other strong stock-related features such as entrepreneurs' twits, et cetera."
      ],
      "metadata": {
        "id": "5kqpBeWN4ZOX"
      }
    },
    {
      "cell_type": "markdown",
      "source": [
        "If there are lots of \"NaN\" you may have internet connectivity issues."
      ],
      "metadata": {
        "id": "ZOjbd9XAif9-"
      }
    },
    {
      "cell_type": "code",
      "source": [
        "#dropping null values if such exists from np and df\n",
        "print(\"shape off dataframe before drop:\",df.shape)\n",
        "print(\"shape of np before drop:\",rawdataset.shape)\n",
        "null_row = np.where(df['Low'].isnull()) \n",
        "dataset = np.delete(rawdataset,(null_row[0][0]), axis=0)\n",
        "print(\"shape of np after drop:\",dataset.shape)\n",
        "df.drop(null_row[0][0], axis=0, inplace = True)\n",
        "print(\"shape of dataframe after drop:\",df.shape)\n"
      ],
      "metadata": {
        "colab": {
          "base_uri": "https://localhost:8080/"
        },
        "id": "MxrdOncjSGrn",
        "outputId": "6cc468f1-e0e1-4e43-a082-f9464b0f7517"
      },
      "execution_count": 163,
      "outputs": [
        {
          "output_type": "stream",
          "name": "stdout",
          "text": [
            "shape off dataframe before drop: (10016, 9)\n",
            "shape of np before drop: (10016, 9)\n",
            "shape of np after drop: (10015, 9)\n",
            "shape of dataframe after drop: (10015, 9)\n"
          ]
        }
      ]
    },
    {
      "cell_type": "code",
      "source": [
        "#choosing the target\n",
        "y = pd.DataFrame(df['Raise'])\n",
        "#choosing the features\n",
        "x = ['Open', 'High', 'Low', 'Close', 'Volume', 'Day']"
      ],
      "metadata": {
        "id": "hD0NgaEpso0t"
      },
      "execution_count": 164,
      "outputs": []
    },
    {
      "cell_type": "markdown",
      "source": [
        "Let's use MinMaxScaler to reduce computation time."
      ],
      "metadata": {
        "id": "8w_M_iLMi0eZ"
      }
    },
    {
      "cell_type": "code",
      "source": [
        "#scaling the stock values in order to reduce memory usage\n",
        "scaler = MinMaxScaler()\n",
        "x_transform = scaler.fit_transform(df[x])\n",
        "x_transform = pd.DataFrame(columns=x, data=x_transform, index=df.index)\n",
        "x_transform.tail() #testing the scaling"
      ],
      "metadata": {
        "colab": {
          "base_uri": "https://localhost:8080/",
          "height": 206
        },
        "id": "7bH9jOkRxWU6",
        "outputId": "492c4ef1-876a-41ed-82fa-91bbcbdfb16c"
      },
      "execution_count": 165,
      "outputs": [
        {
          "output_type": "execute_result",
          "data": {
            "text/html": [
              "\n",
              "  <div id=\"df-cfb92663-c966-49ad-900b-cda14adc3441\">\n",
              "    <div class=\"colab-df-container\">\n",
              "      <div>\n",
              "<style scoped>\n",
              "    .dataframe tbody tr th:only-of-type {\n",
              "        vertical-align: middle;\n",
              "    }\n",
              "\n",
              "    .dataframe tbody tr th {\n",
              "        vertical-align: top;\n",
              "    }\n",
              "\n",
              "    .dataframe thead th {\n",
              "        text-align: right;\n",
              "    }\n",
              "</style>\n",
              "<table border=\"1\" class=\"dataframe\">\n",
              "  <thead>\n",
              "    <tr style=\"text-align: right;\">\n",
              "      <th></th>\n",
              "      <th>Open</th>\n",
              "      <th>High</th>\n",
              "      <th>Low</th>\n",
              "      <th>Close</th>\n",
              "      <th>Volume</th>\n",
              "      <th>Day</th>\n",
              "    </tr>\n",
              "  </thead>\n",
              "  <tbody>\n",
              "    <tr>\n",
              "      <th>10011</th>\n",
              "      <td>0.950418</td>\n",
              "      <td>0.942059</td>\n",
              "      <td>0.958251</td>\n",
              "      <td>0.942910</td>\n",
              "      <td>0.021783</td>\n",
              "      <td>0.50</td>\n",
              "    </tr>\n",
              "    <tr>\n",
              "      <th>10012</th>\n",
              "      <td>0.957671</td>\n",
              "      <td>0.945714</td>\n",
              "      <td>0.948671</td>\n",
              "      <td>0.931634</td>\n",
              "      <td>0.020776</td>\n",
              "      <td>0.75</td>\n",
              "    </tr>\n",
              "    <tr>\n",
              "      <th>10013</th>\n",
              "      <td>0.949156</td>\n",
              "      <td>0.937978</td>\n",
              "      <td>0.954380</td>\n",
              "      <td>0.930124</td>\n",
              "      <td>0.025099</td>\n",
              "      <td>1.00</td>\n",
              "    </tr>\n",
              "    <tr>\n",
              "      <th>10014</th>\n",
              "      <td>0.960968</td>\n",
              "      <td>0.971800</td>\n",
              "      <td>0.965282</td>\n",
              "      <td>0.961679</td>\n",
              "      <td>0.030230</td>\n",
              "      <td>0.00</td>\n",
              "    </tr>\n",
              "    <tr>\n",
              "      <th>10015</th>\n",
              "      <td>1.000000</td>\n",
              "      <td>1.000000</td>\n",
              "      <td>1.000000</td>\n",
              "      <td>1.000000</td>\n",
              "      <td>0.020290</td>\n",
              "      <td>0.25</td>\n",
              "    </tr>\n",
              "  </tbody>\n",
              "</table>\n",
              "</div>\n",
              "      <button class=\"colab-df-convert\" onclick=\"convertToInteractive('df-cfb92663-c966-49ad-900b-cda14adc3441')\"\n",
              "              title=\"Convert this dataframe to an interactive table.\"\n",
              "              style=\"display:none;\">\n",
              "        \n",
              "  <svg xmlns=\"http://www.w3.org/2000/svg\" height=\"24px\"viewBox=\"0 0 24 24\"\n",
              "       width=\"24px\">\n",
              "    <path d=\"M0 0h24v24H0V0z\" fill=\"none\"/>\n",
              "    <path d=\"M18.56 5.44l.94 2.06.94-2.06 2.06-.94-2.06-.94-.94-2.06-.94 2.06-2.06.94zm-11 1L8.5 8.5l.94-2.06 2.06-.94-2.06-.94L8.5 2.5l-.94 2.06-2.06.94zm10 10l.94 2.06.94-2.06 2.06-.94-2.06-.94-.94-2.06-.94 2.06-2.06.94z\"/><path d=\"M17.41 7.96l-1.37-1.37c-.4-.4-.92-.59-1.43-.59-.52 0-1.04.2-1.43.59L10.3 9.45l-7.72 7.72c-.78.78-.78 2.05 0 2.83L4 21.41c.39.39.9.59 1.41.59.51 0 1.02-.2 1.41-.59l7.78-7.78 2.81-2.81c.8-.78.8-2.07 0-2.86zM5.41 20L4 18.59l7.72-7.72 1.47 1.35L5.41 20z\"/>\n",
              "  </svg>\n",
              "      </button>\n",
              "      \n",
              "  <style>\n",
              "    .colab-df-container {\n",
              "      display:flex;\n",
              "      flex-wrap:wrap;\n",
              "      gap: 12px;\n",
              "    }\n",
              "\n",
              "    .colab-df-convert {\n",
              "      background-color: #E8F0FE;\n",
              "      border: none;\n",
              "      border-radius: 50%;\n",
              "      cursor: pointer;\n",
              "      display: none;\n",
              "      fill: #1967D2;\n",
              "      height: 32px;\n",
              "      padding: 0 0 0 0;\n",
              "      width: 32px;\n",
              "    }\n",
              "\n",
              "    .colab-df-convert:hover {\n",
              "      background-color: #E2EBFA;\n",
              "      box-shadow: 0px 1px 2px rgba(60, 64, 67, 0.3), 0px 1px 3px 1px rgba(60, 64, 67, 0.15);\n",
              "      fill: #174EA6;\n",
              "    }\n",
              "\n",
              "    [theme=dark] .colab-df-convert {\n",
              "      background-color: #3B4455;\n",
              "      fill: #D2E3FC;\n",
              "    }\n",
              "\n",
              "    [theme=dark] .colab-df-convert:hover {\n",
              "      background-color: #434B5C;\n",
              "      box-shadow: 0px 1px 3px 1px rgba(0, 0, 0, 0.15);\n",
              "      filter: drop-shadow(0px 1px 2px rgba(0, 0, 0, 0.3));\n",
              "      fill: #FFFFFF;\n",
              "    }\n",
              "  </style>\n",
              "\n",
              "      <script>\n",
              "        const buttonEl =\n",
              "          document.querySelector('#df-cfb92663-c966-49ad-900b-cda14adc3441 button.colab-df-convert');\n",
              "        buttonEl.style.display =\n",
              "          google.colab.kernel.accessAllowed ? 'block' : 'none';\n",
              "\n",
              "        async function convertToInteractive(key) {\n",
              "          const element = document.querySelector('#df-cfb92663-c966-49ad-900b-cda14adc3441');\n",
              "          const dataTable =\n",
              "            await google.colab.kernel.invokeFunction('convertToInteractive',\n",
              "                                                     [key], {});\n",
              "          if (!dataTable) return;\n",
              "\n",
              "          const docLinkHtml = 'Like what you see? Visit the ' +\n",
              "            '<a target=\"_blank\" href=https://colab.research.google.com/notebooks/data_table.ipynb>data table notebook</a>'\n",
              "            + ' to learn more about interactive tables.';\n",
              "          element.innerHTML = '';\n",
              "          dataTable['output_type'] = 'display_data';\n",
              "          await google.colab.output.renderOutput(dataTable, element);\n",
              "          const docLink = document.createElement('div');\n",
              "          docLink.innerHTML = docLinkHtml;\n",
              "          element.appendChild(docLink);\n",
              "        }\n",
              "      </script>\n",
              "    </div>\n",
              "  </div>\n",
              "  "
            ],
            "text/plain": [
              "           Open      High       Low     Close    Volume   Day\n",
              "10011  0.950418  0.942059  0.958251  0.942910  0.021783  0.50\n",
              "10012  0.957671  0.945714  0.948671  0.931634  0.020776  0.75\n",
              "10013  0.949156  0.937978  0.954380  0.930124  0.025099  1.00\n",
              "10014  0.960968  0.971800  0.965282  0.961679  0.030230  0.00\n",
              "10015  1.000000  1.000000  1.000000  1.000000  0.020290  0.25"
            ]
          },
          "metadata": {},
          "execution_count": 165
        }
      ]
    },
    {
      "cell_type": "code",
      "source": [
        "x_transform.head()"
      ],
      "metadata": {
        "colab": {
          "base_uri": "https://localhost:8080/",
          "height": 206
        },
        "id": "XLY5WIjHMfD1",
        "outputId": "afaefa72-a137-4c13-8ca5-15614f8f555f"
      },
      "execution_count": 166,
      "outputs": [
        {
          "output_type": "execute_result",
          "data": {
            "text/html": [
              "\n",
              "  <div id=\"df-a2b82cca-401b-4096-8d19-03e74509dbbd\">\n",
              "    <div class=\"colab-df-container\">\n",
              "      <div>\n",
              "<style scoped>\n",
              "    .dataframe tbody tr th:only-of-type {\n",
              "        vertical-align: middle;\n",
              "    }\n",
              "\n",
              "    .dataframe tbody tr th {\n",
              "        vertical-align: top;\n",
              "    }\n",
              "\n",
              "    .dataframe thead th {\n",
              "        text-align: right;\n",
              "    }\n",
              "</style>\n",
              "<table border=\"1\" class=\"dataframe\">\n",
              "  <thead>\n",
              "    <tr style=\"text-align: right;\">\n",
              "      <th></th>\n",
              "      <th>Open</th>\n",
              "      <th>High</th>\n",
              "      <th>Low</th>\n",
              "      <th>Close</th>\n",
              "      <th>Volume</th>\n",
              "      <th>Day</th>\n",
              "    </tr>\n",
              "  </thead>\n",
              "  <tbody>\n",
              "    <tr>\n",
              "      <th>0</th>\n",
              "      <td>0.000593</td>\n",
              "      <td>0.000588</td>\n",
              "      <td>0.000607</td>\n",
              "      <td>0.000591</td>\n",
              "      <td>0.063023</td>\n",
              "      <td>1.00</td>\n",
              "    </tr>\n",
              "    <tr>\n",
              "      <th>1</th>\n",
              "      <td>0.000547</td>\n",
              "      <td>0.000538</td>\n",
              "      <td>0.000556</td>\n",
              "      <td>0.000541</td>\n",
              "      <td>0.023516</td>\n",
              "      <td>0.00</td>\n",
              "    </tr>\n",
              "    <tr>\n",
              "      <th>2</th>\n",
              "      <td>0.000479</td>\n",
              "      <td>0.000472</td>\n",
              "      <td>0.000488</td>\n",
              "      <td>0.000474</td>\n",
              "      <td>0.014061</td>\n",
              "      <td>0.25</td>\n",
              "    </tr>\n",
              "    <tr>\n",
              "      <th>3</th>\n",
              "      <td>0.000496</td>\n",
              "      <td>0.000493</td>\n",
              "      <td>0.000509</td>\n",
              "      <td>0.000495</td>\n",
              "      <td>0.011462</td>\n",
              "      <td>0.50</td>\n",
              "    </tr>\n",
              "    <tr>\n",
              "      <th>4</th>\n",
              "      <td>0.000521</td>\n",
              "      <td>0.000518</td>\n",
              "      <td>0.000535</td>\n",
              "      <td>0.000520</td>\n",
              "      <td>0.009711</td>\n",
              "      <td>0.75</td>\n",
              "    </tr>\n",
              "  </tbody>\n",
              "</table>\n",
              "</div>\n",
              "      <button class=\"colab-df-convert\" onclick=\"convertToInteractive('df-a2b82cca-401b-4096-8d19-03e74509dbbd')\"\n",
              "              title=\"Convert this dataframe to an interactive table.\"\n",
              "              style=\"display:none;\">\n",
              "        \n",
              "  <svg xmlns=\"http://www.w3.org/2000/svg\" height=\"24px\"viewBox=\"0 0 24 24\"\n",
              "       width=\"24px\">\n",
              "    <path d=\"M0 0h24v24H0V0z\" fill=\"none\"/>\n",
              "    <path d=\"M18.56 5.44l.94 2.06.94-2.06 2.06-.94-2.06-.94-.94-2.06-.94 2.06-2.06.94zm-11 1L8.5 8.5l.94-2.06 2.06-.94-2.06-.94L8.5 2.5l-.94 2.06-2.06.94zm10 10l.94 2.06.94-2.06 2.06-.94-2.06-.94-.94-2.06-.94 2.06-2.06.94z\"/><path d=\"M17.41 7.96l-1.37-1.37c-.4-.4-.92-.59-1.43-.59-.52 0-1.04.2-1.43.59L10.3 9.45l-7.72 7.72c-.78.78-.78 2.05 0 2.83L4 21.41c.39.39.9.59 1.41.59.51 0 1.02-.2 1.41-.59l7.78-7.78 2.81-2.81c.8-.78.8-2.07 0-2.86zM5.41 20L4 18.59l7.72-7.72 1.47 1.35L5.41 20z\"/>\n",
              "  </svg>\n",
              "      </button>\n",
              "      \n",
              "  <style>\n",
              "    .colab-df-container {\n",
              "      display:flex;\n",
              "      flex-wrap:wrap;\n",
              "      gap: 12px;\n",
              "    }\n",
              "\n",
              "    .colab-df-convert {\n",
              "      background-color: #E8F0FE;\n",
              "      border: none;\n",
              "      border-radius: 50%;\n",
              "      cursor: pointer;\n",
              "      display: none;\n",
              "      fill: #1967D2;\n",
              "      height: 32px;\n",
              "      padding: 0 0 0 0;\n",
              "      width: 32px;\n",
              "    }\n",
              "\n",
              "    .colab-df-convert:hover {\n",
              "      background-color: #E2EBFA;\n",
              "      box-shadow: 0px 1px 2px rgba(60, 64, 67, 0.3), 0px 1px 3px 1px rgba(60, 64, 67, 0.15);\n",
              "      fill: #174EA6;\n",
              "    }\n",
              "\n",
              "    [theme=dark] .colab-df-convert {\n",
              "      background-color: #3B4455;\n",
              "      fill: #D2E3FC;\n",
              "    }\n",
              "\n",
              "    [theme=dark] .colab-df-convert:hover {\n",
              "      background-color: #434B5C;\n",
              "      box-shadow: 0px 1px 3px 1px rgba(0, 0, 0, 0.15);\n",
              "      filter: drop-shadow(0px 1px 2px rgba(0, 0, 0, 0.3));\n",
              "      fill: #FFFFFF;\n",
              "    }\n",
              "  </style>\n",
              "\n",
              "      <script>\n",
              "        const buttonEl =\n",
              "          document.querySelector('#df-a2b82cca-401b-4096-8d19-03e74509dbbd button.colab-df-convert');\n",
              "        buttonEl.style.display =\n",
              "          google.colab.kernel.accessAllowed ? 'block' : 'none';\n",
              "\n",
              "        async function convertToInteractive(key) {\n",
              "          const element = document.querySelector('#df-a2b82cca-401b-4096-8d19-03e74509dbbd');\n",
              "          const dataTable =\n",
              "            await google.colab.kernel.invokeFunction('convertToInteractive',\n",
              "                                                     [key], {});\n",
              "          if (!dataTable) return;\n",
              "\n",
              "          const docLinkHtml = 'Like what you see? Visit the ' +\n",
              "            '<a target=\"_blank\" href=https://colab.research.google.com/notebooks/data_table.ipynb>data table notebook</a>'\n",
              "            + ' to learn more about interactive tables.';\n",
              "          element.innerHTML = '';\n",
              "          dataTable['output_type'] = 'display_data';\n",
              "          await google.colab.output.renderOutput(dataTable, element);\n",
              "          const docLink = document.createElement('div');\n",
              "          docLink.innerHTML = docLinkHtml;\n",
              "          element.appendChild(docLink);\n",
              "        }\n",
              "      </script>\n",
              "    </div>\n",
              "  </div>\n",
              "  "
            ],
            "text/plain": [
              "       Open      High       Low     Close    Volume   Day\n",
              "0  0.000593  0.000588  0.000607  0.000591  0.063023  1.00\n",
              "1  0.000547  0.000538  0.000556  0.000541  0.023516  0.00\n",
              "2  0.000479  0.000472  0.000488  0.000474  0.014061  0.25\n",
              "3  0.000496  0.000493  0.000509  0.000495  0.011462  0.50\n",
              "4  0.000521  0.000518  0.000535  0.000520  0.009711  0.75"
            ]
          },
          "metadata": {},
          "execution_count": 166
        }
      ]
    },
    {
      "cell_type": "code",
      "source": [
        "print(\"Maximum Volume:\",max(x_transform['Volume']))"
      ],
      "metadata": {
        "colab": {
          "base_uri": "https://localhost:8080/"
        },
        "id": "CkeKKs9BhHOd",
        "outputId": "46966415-c4b8-4b7c-8a4c-8192fc0bf843"
      },
      "execution_count": 167,
      "outputs": [
        {
          "output_type": "stream",
          "name": "stdout",
          "text": [
            "Maximum Volume: 1.0\n"
          ]
        }
      ]
    },
    {
      "cell_type": "markdown",
      "source": [
        "We can see that all the features in x_transform are between 0 and 1, just like we wanted."
      ],
      "metadata": {
        "id": "avQrzEQVg9Oz"
      }
    },
    {
      "cell_type": "code",
      "source": [
        "#numpy array\n",
        "X = np.asarray(x_transform)\n",
        "y = np.asarray(df['Raise'])"
      ],
      "metadata": {
        "id": "bw6Mb1VQUM5_"
      },
      "execution_count": 168,
      "outputs": []
    },
    {
      "cell_type": "code",
      "source": [
        "# Split the data to Train, and Test (75%, 25%)\n",
        "\n",
        "X_train, X_test, y_train, y_test = train_test_split(X, y, test_size=0.25, random_state=11111)"
      ],
      "metadata": {
        "id": "JmZF1mqmYNS0"
      },
      "execution_count": 169,
      "outputs": []
    },
    {
      "cell_type": "code",
      "source": [
        "np.mean(y), np.mean(1-y)"
      ],
      "metadata": {
        "colab": {
          "base_uri": "https://localhost:8080/"
        },
        "id": "1wa_ubmHlhvQ",
        "outputId": "236d5269-109c-4f36-f3d9-7ec95110884a"
      },
      "execution_count": 170,
      "outputs": [
        {
          "output_type": "execute_result",
          "data": {
            "text/plain": [
              "(0.49595606590114827, 0.5040439340988517)"
            ]
          },
          "metadata": {},
          "execution_count": 170
        }
      ]
    },
    {
      "cell_type": "markdown",
      "source": [
        "This means that without any model, we can predict if the price goes up the next day with an accuracy of 50%.\n"
      ],
      "metadata": {
        "id": "-n3zTcM00snZ"
      }
    },
    {
      "cell_type": "code",
      "source": [
        "## Train the RF Model\n",
        "rf_model = RandomForestClassifier(n_estimators=200)\n",
        "rf_model.fit(X_train, y_train)"
      ],
      "metadata": {
        "colab": {
          "base_uri": "https://localhost:8080/"
        },
        "id": "svTnTzwL1aKL",
        "outputId": "0e3b58f3-d4a9-4b65-bf0a-85a5b842f5c4"
      },
      "execution_count": 171,
      "outputs": [
        {
          "output_type": "execute_result",
          "data": {
            "text/plain": [
              "RandomForestClassifier(n_estimators=200)"
            ]
          },
          "metadata": {},
          "execution_count": 171
        }
      ]
    },
    {
      "cell_type": "code",
      "source": [
        "# Make predictions on the test set - both \"hard\" predictions, and the scores (percent of trees voting yes)\n",
        "y_pred_class_rf = rf_model.predict(X_test)\n",
        "y_pred_prob_rf = rf_model.predict_proba(X_test)\n",
        "\n",
        "\n",
        "print('accuracy is {:.3f}'.format(accuracy_score(y_test,y_pred_class_rf)))\n",
        "print('roc-auc is {:.3f}'.format(roc_auc_score(y_test,y_pred_prob_rf[:,1])))"
      ],
      "metadata": {
        "colab": {
          "base_uri": "https://localhost:8080/"
        },
        "id": "kMHdNCrI1hty",
        "outputId": "c036f82b-03af-4a1b-d56c-521ddb46f15e"
      },
      "execution_count": 172,
      "outputs": [
        {
          "output_type": "stream",
          "name": "stdout",
          "text": [
            "accuracy is 0.693\n",
            "roc-auc is 0.761\n"
          ]
        }
      ]
    },
    {
      "cell_type": "code",
      "source": [
        "def plot_roc(y_test, y_pred, model_name):\n",
        "    fpr, tpr, thr = roc_curve(y_test, y_pred)\n",
        "    fig, ax = plt.subplots(figsize=(6, 6))\n",
        "    ax.plot(fpr, tpr, 'k-')\n",
        "    ax.plot([0, 1], [0, 1], 'k--', linewidth=.5)  # roc curve for random model\n",
        "    ax.grid(True)\n",
        "    ax.set(title='ROC Curve for {} on Apple stocks'.format(model_name),\n",
        "           xlim=[-0.01, 1.01], ylim=[-0.01, 1.01])\n",
        "\n",
        "\n",
        "plot_roc(y_test, y_pred_prob_rf[:, 1], 'RF')"
      ],
      "metadata": {
        "colab": {
          "base_uri": "https://localhost:8080/",
          "height": 390
        },
        "id": "X6mTJ7As1kAj",
        "outputId": "5b91425d-7393-489b-f539-6321891c82d0"
      },
      "execution_count": 173,
      "outputs": [
        {
          "output_type": "display_data",
          "data": {
            "image/png": "[encoded data removed]",
            "text/plain": [
              "<Figure size 432x432 with 1 Axes>"
            ]
          },
          "metadata": {
            "needs_background": "light"
          }
        }
      ]
    },
    {
      "cell_type": "code",
      "source": [
        "# Define the Model \n",
        "# Input size is 8-dimensional\n",
        "# 1 hidden layer, 12 hidden nodes, sigmoid activation\n",
        "# Final layer has just one node with a sigmoid activation (standard for binary classification)\n",
        "\n",
        "model_1 = Sequential([\n",
        "    Dense(12, input_shape=(6,), activation=\"relu\"),\n",
        "    Dense(1, activation=\"sigmoid\")\n",
        "])"
      ],
      "metadata": {
        "id": "_S3Jh-336n5J"
      },
      "execution_count": 174,
      "outputs": []
    }
  ]
}