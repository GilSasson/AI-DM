{
  "nbformat": 4,
  "nbformat_minor": 0,
  "metadata": {
    "colab": {
      "name": "FinalProject.ipynb",
      "provenance": [],
      "collapsed_sections": [],
      "authorship_tag": "ABX9TyN3jek3a/kiNMB6RuNNuWYX",
      "include_colab_link": true
    },
    "kernelspec": {
      "name": "python3",
      "display_name": "Python 3"
    },
    "language_info": {
      "name": "python"
    }
  },
  "cells": [
    {
      "cell_type": "markdown",
      "metadata": {
        "id": "view-in-github",
        "colab_type": "text"
      },
      "source": [
        "<a href=\"https://colab.research.google.com/github/GilSasson/ai/blob/main/FinalProject.ipynb\" target=\"_parent\"><img src=\"https://colab.research.google.com/assets/colab-badge.svg\" alt=\"Open In Colab\"/></a>"
      ]
    },
    {
      "cell_type": "code",
      "execution_count": null,
      "metadata": {
        "id": "TsjL6iaORUu-"
      },
      "outputs": [],
      "source": [
        "#importing libraries\n",
        "import math \n",
        "import pandas as pd\n",
        "import numpy as np\n",
        "import matplotlib. pyplot as plt\n",
        "import matplotlib\n",
        "from sklearn.preprocessing import MinMaxScaler\n",
        "from keras.layers import Activation, Flatten, LSTM, Dense, Dropout\n",
        "from sklearn.model_selection import TimeSeriesSplit, train_test_split, KFold, cross_val_score\n",
        "from sklearn.metrics import mean_squared_error, r2_score\n",
        "import matplotlib. dates as mandates\n",
        "from sklearn.preprocessing import MinMaxScaler\n",
        "from sklearn import linear_model\n",
        "from keras.models import Sequential\n",
        "from keras.layers import Dense\n",
        "import keras.backend as K\n",
        "from keras.callbacks import EarlyStopping\n",
        "from tensorflow.keras.optimizers import Adam\n",
        "from keras.models import load_model\n",
        "from keras.layers import LSTM\n",
        "from keras.utils.vis_utils import plot_model"
      ]
    },
    {
      "cell_type": "code",
      "source": [
        ""
      ],
      "metadata": {
        "id": "6Uy2Ts4oLPhH"
      },
      "execution_count": null,
      "outputs": []
    },
    {
      "cell_type": "code",
      "source": [
        "#getting the dataset\n",
        "#url = 'https://raw.githubusercontent.com/GilSasson/ai/main/Apple.csv'\n",
        "url = 'https://raw.githubusercontent.com/GilSasson/ai/main/Facebook.csv'\n",
        "df=pd.read_csv(url,  header=0, error_bad_lines=False) \n",
        "#put dta in dataset without header line\n",
        "rawdataset = np.array(df)"
      ],
      "metadata": {
        "id": "44gJbr2ORvA_"
      },
      "execution_count": null,
      "outputs": []
    },
    {
      "cell_type": "code",
      "source": [
        "#dropping null values if such exists from np and df, remove # for Apple.csv dataset\n",
        "print(\"shape off dataframe before drop:\",df.shape)\n",
        "print(\"shape of np before drop:\",rawdataset.shape)\n",
        "null_row = np.where(df['Low'].isnull()) \n",
        "#dataset = np.delete(rawdataset,(null_row[0][0]), axis=0)\n",
        "#print(\"shape of np after drop:\",dataset.shape)\n",
        "#df.drop(null_row[0][0], axis=0, inplace = True)\n",
        "#print(\"shape of dataframe after drop:\",df.shape)\n"
      ],
      "metadata": {
        "colab": {
          "base_uri": "https://localhost:8080/"
        },
        "id": "MxrdOncjSGrn",
        "outputId": "ebe57338-e0ae-4071-9d12-230747a9cd41"
      },
      "execution_count": null,
      "outputs": [
        {
          "output_type": "stream",
          "name": "stdout",
          "text": [
            "shape off dataframe before drop: (2076, 7)\n",
            "shape of np before drop: (2076, 7)\n"
          ]
        }
      ]
    },
    {
      "cell_type": "code",
      "source": [
        "#choosing the target\n",
        "y = pd.DataFrame(df['Adj Close'])\n",
        "#choosing the features\n",
        "x = ['Volume', 'High']"
      ],
      "metadata": {
        "id": "hD0NgaEpso0t"
      },
      "execution_count": null,
      "outputs": []
    },
    {
      "cell_type": "code",
      "source": [
        "#scaling the stock values in order to reduce memory usage\n",
        "scaler = MinMaxScaler()\n",
        "x_transform = scaler.fit_transform(df[x])\n",
        "x_transform = pd.DataFrame(columns=x, data=x_transform, index=df.index)\n",
        "x_transform.tail() #testing the scaling"
      ],
      "metadata": {
        "colab": {
          "base_uri": "https://localhost:8080/",
          "height": 206
        },
        "id": "7bH9jOkRxWU6",
        "outputId": "2afd8ae8-1c7b-4901-9e53-85df24701cc8"
      },
      "execution_count": null,
      "outputs": [
        {
          "output_type": "execute_result",
          "data": {
            "text/html": [
              "\n",
              "  <div id=\"df-2457e7cc-9044-4c91-8542-bf2a94bbca0f\">\n",
              "    <div class=\"colab-df-container\">\n",
              "      <div>\n",
              "<style scoped>\n",
              "    .dataframe tbody tr th:only-of-type {\n",
              "        vertical-align: middle;\n",
              "    }\n",
              "\n",
              "    .dataframe tbody tr th {\n",
              "        vertical-align: top;\n",
              "    }\n",
              "\n",
              "    .dataframe thead th {\n",
              "        text-align: right;\n",
              "    }\n",
              "</style>\n",
              "<table border=\"1\" class=\"dataframe\">\n",
              "  <thead>\n",
              "    <tr style=\"text-align: right;\">\n",
              "      <th></th>\n",
              "      <th>Volume</th>\n",
              "      <th>High</th>\n",
              "    </tr>\n",
              "  </thead>\n",
              "  <tbody>\n",
              "    <tr>\n",
              "      <th>2071</th>\n",
              "      <td>0.027332</td>\n",
              "      <td>0.942483</td>\n",
              "    </tr>\n",
              "    <tr>\n",
              "      <th>2072</th>\n",
              "      <td>0.020190</td>\n",
              "      <td>0.947318</td>\n",
              "    </tr>\n",
              "    <tr>\n",
              "      <th>2073</th>\n",
              "      <td>0.015642</td>\n",
              "      <td>0.937687</td>\n",
              "    </tr>\n",
              "    <tr>\n",
              "      <th>2074</th>\n",
              "      <td>0.013103</td>\n",
              "      <td>0.943251</td>\n",
              "    </tr>\n",
              "    <tr>\n",
              "      <th>2075</th>\n",
              "      <td>0.022486</td>\n",
              "      <td>0.947279</td>\n",
              "    </tr>\n",
              "  </tbody>\n",
              "</table>\n",
              "</div>\n",
              "      <button class=\"colab-df-convert\" onclick=\"convertToInteractive('df-2457e7cc-9044-4c91-8542-bf2a94bbca0f')\"\n",
              "              title=\"Convert this dataframe to an interactive table.\"\n",
              "              style=\"display:none;\">\n",
              "        \n",
              "  <svg xmlns=\"http://www.w3.org/2000/svg\" height=\"24px\"viewBox=\"0 0 24 24\"\n",
              "       width=\"24px\">\n",
              "    <path d=\"M0 0h24v24H0V0z\" fill=\"none\"/>\n",
              "    <path d=\"M18.56 5.44l.94 2.06.94-2.06 2.06-.94-2.06-.94-.94-2.06-.94 2.06-2.06.94zm-11 1L8.5 8.5l.94-2.06 2.06-.94-2.06-.94L8.5 2.5l-.94 2.06-2.06.94zm10 10l.94 2.06.94-2.06 2.06-.94-2.06-.94-.94-2.06-.94 2.06-2.06.94z\"/><path d=\"M17.41 7.96l-1.37-1.37c-.4-.4-.92-.59-1.43-.59-.52 0-1.04.2-1.43.59L10.3 9.45l-7.72 7.72c-.78.78-.78 2.05 0 2.83L4 21.41c.39.39.9.59 1.41.59.51 0 1.02-.2 1.41-.59l7.78-7.78 2.81-2.81c.8-.78.8-2.07 0-2.86zM5.41 20L4 18.59l7.72-7.72 1.47 1.35L5.41 20z\"/>\n",
              "  </svg>\n",
              "      </button>\n",
              "      \n",
              "  <style>\n",
              "    .colab-df-container {\n",
              "      display:flex;\n",
              "      flex-wrap:wrap;\n",
              "      gap: 12px;\n",
              "    }\n",
              "\n",
              "    .colab-df-convert {\n",
              "      background-color: #E8F0FE;\n",
              "      border: none;\n",
              "      border-radius: 50%;\n",
              "      cursor: pointer;\n",
              "      display: none;\n",
              "      fill: #1967D2;\n",
              "      height: 32px;\n",
              "      padding: 0 0 0 0;\n",
              "      width: 32px;\n",
              "    }\n",
              "\n",
              "    .colab-df-convert:hover {\n",
              "      background-color: #E2EBFA;\n",
              "      box-shadow: 0px 1px 2px rgba(60, 64, 67, 0.3), 0px 1px 3px 1px rgba(60, 64, 67, 0.15);\n",
              "      fill: #174EA6;\n",
              "    }\n",
              "\n",
              "    [theme=dark] .colab-df-convert {\n",
              "      background-color: #3B4455;\n",
              "      fill: #D2E3FC;\n",
              "    }\n",
              "\n",
              "    [theme=dark] .colab-df-convert:hover {\n",
              "      background-color: #434B5C;\n",
              "      box-shadow: 0px 1px 3px 1px rgba(0, 0, 0, 0.15);\n",
              "      filter: drop-shadow(0px 1px 2px rgba(0, 0, 0, 0.3));\n",
              "      fill: #FFFFFF;\n",
              "    }\n",
              "  </style>\n",
              "\n",
              "      <script>\n",
              "        const buttonEl =\n",
              "          document.querySelector('#df-2457e7cc-9044-4c91-8542-bf2a94bbca0f button.colab-df-convert');\n",
              "        buttonEl.style.display =\n",
              "          google.colab.kernel.accessAllowed ? 'block' : 'none';\n",
              "\n",
              "        async function convertToInteractive(key) {\n",
              "          const element = document.querySelector('#df-2457e7cc-9044-4c91-8542-bf2a94bbca0f');\n",
              "          const dataTable =\n",
              "            await google.colab.kernel.invokeFunction('convertToInteractive',\n",
              "                                                     [key], {});\n",
              "          if (!dataTable) return;\n",
              "\n",
              "          const docLinkHtml = 'Like what you see? Visit the ' +\n",
              "            '<a target=\"_blank\" href=https://colab.research.google.com/notebooks/data_table.ipynb>data table notebook</a>'\n",
              "            + ' to learn more about interactive tables.';\n",
              "          element.innerHTML = '';\n",
              "          dataTable['output_type'] = 'display_data';\n",
              "          await google.colab.output.renderOutput(dataTable, element);\n",
              "          const docLink = document.createElement('div');\n",
              "          docLink.innerHTML = docLinkHtml;\n",
              "          element.appendChild(docLink);\n",
              "        }\n",
              "      </script>\n",
              "    </div>\n",
              "  </div>\n",
              "  "
            ],
            "text/plain": [
              "        Volume      High\n",
              "2071  0.027332  0.942483\n",
              "2072  0.020190  0.947318\n",
              "2073  0.015642  0.937687\n",
              "2074  0.013103  0.943251\n",
              "2075  0.022486  0.947279"
            ]
          },
          "metadata": {},
          "execution_count": 37
        }
      ]
    },
    {
      "cell_type": "code",
      "source": [
        "#train and test splitting\n",
        "timesplit = TimeSeriesSplit(n_splits=2)\n",
        "for train_index, test_index in timesplit.split(x_transform):\n",
        "        x_train, x_test = x_transform[:len(train_index)], x_transform[len(train_index): (len(train_index)+len(test_index))]\n",
        "        y_train, y_test = y[:len(train_index)].values.ravel(), y[len(train_index): (len(train_index)+len(test_index))].values.ravel()\n",
        "#lstm model\n",
        "trainx = np.array(x_train)\n",
        "testx = np.array(x_test)\n",
        "x_train = trainx.reshape(x_train.shape[0], 1, x_train.shape[1])\n",
        "x_test = testx.reshape(x_test.shape[0], 1, x_test.shape[1])\n",
        "lstm = Sequential()\n",
        "lstm.add(LSTM(32, input_shape=(1, trainx.shape[1]), activation='relu', return_sequences=False))\n",
        "lstm.add(Dense(1))\n",
        "lstm.compile(loss = 'mean_squared_error', optimizer='Adam')\n",
        "plot_model(lstm, show_shapes=True, show_layer_names=True)"
      ],
      "metadata": {
        "colab": {
          "base_uri": "https://localhost:8080/",
          "height": 312
        },
        "id": "XLY5WIjHMfD1",
        "outputId": "52f87132-5b01-434e-9c3a-044d0396e92b"
      },
      "execution_count": null,
      "outputs": [
        {
          "output_type": "execute_result",
          "data": {
            "image/png": "[encoded data removed]",
            "text/plain": [
              "<IPython.core.display.Image object>"
            ]
          },
          "metadata": {},
          "execution_count": 38
        }
      ]
    },
    {
      "cell_type": "code",
      "source": [
        "history=lstm.fit(x_train, y_train, epochs=100, batch_size=10, verbose=1, shuffle=False)"
      ],
      "metadata": {
        "colab": {
          "base_uri": "https://localhost:8080/"
        },
        "id": "bw6Mb1VQUM5_",
        "outputId": "957c4e20-c7e4-45c3-b11b-dc9aa22f88ef"
      },
      "execution_count": null,
      "outputs": [
        {
          "output_type": "stream",
          "name": "stdout",
          "text": [
            "Epoch 1/100\n",
            "139/139 [==============================] - 2s 3ms/step - loss: 8892.5771\n",
            "Epoch 2/100\n",
            "139/139 [==============================] - 0s 2ms/step - loss: 8703.0352\n",
            "Epoch 3/100\n",
            "139/139 [==============================] - 0s 2ms/step - loss: 8334.5596\n",
            "Epoch 4/100\n",
            "139/139 [==============================] - 0s 2ms/step - loss: 7731.2954\n",
            "Epoch 5/100\n",
            "139/139 [==============================] - 0s 2ms/step - loss: 6905.1313\n",
            "Epoch 6/100\n",
            "139/139 [==============================] - 0s 2ms/step - loss: 5930.4199\n",
            "Epoch 7/100\n",
            "139/139 [==============================] - 0s 2ms/step - loss: 4912.7314\n",
            "Epoch 8/100\n",
            "139/139 [==============================] - 0s 2ms/step - loss: 3952.7207\n",
            "Epoch 9/100\n",
            "139/139 [==============================] - 0s 2ms/step - loss: 3122.5730\n",
            "Epoch 10/100\n",
            "139/139 [==============================] - 0s 2ms/step - loss: 2458.0388\n",
            "Epoch 11/100\n",
            "139/139 [==============================] - 0s 2ms/step - loss: 1961.9019\n",
            "Epoch 12/100\n",
            "139/139 [==============================] - 0s 2ms/step - loss: 1613.6897\n",
            "Epoch 13/100\n",
            "139/139 [==============================] - 0s 2ms/step - loss: 1381.4958\n",
            "Epoch 14/100\n",
            "139/139 [==============================] - 0s 2ms/step - loss: 1231.7413\n",
            "Epoch 15/100\n",
            "139/139 [==============================] - 0s 2ms/step - loss: 1135.3627\n",
            "Epoch 16/100\n",
            "139/139 [==============================] - 0s 2ms/step - loss: 1070.5127\n",
            "Epoch 17/100\n",
            "139/139 [==============================] - 0s 2ms/step - loss: 1022.4417\n",
            "Epoch 18/100\n",
            "139/139 [==============================] - 0s 2ms/step - loss: 981.6287\n",
            "Epoch 19/100\n",
            "139/139 [==============================] - 0s 2ms/step - loss: 942.9461\n",
            "Epoch 20/100\n",
            "139/139 [==============================] - 0s 3ms/step - loss: 904.0490\n",
            "Epoch 21/100\n",
            "139/139 [==============================] - 0s 2ms/step - loss: 864.0711\n",
            "Epoch 22/100\n",
            "139/139 [==============================] - 0s 2ms/step - loss: 822.8756\n",
            "Epoch 23/100\n",
            "139/139 [==============================] - 0s 3ms/step - loss: 780.6374\n",
            "Epoch 24/100\n",
            "139/139 [==============================] - 0s 2ms/step - loss: 737.6696\n",
            "Epoch 25/100\n",
            "139/139 [==============================] - 0s 2ms/step - loss: 694.3428\n",
            "Epoch 26/100\n",
            "139/139 [==============================] - 0s 2ms/step - loss: 651.0434\n",
            "Epoch 27/100\n",
            "139/139 [==============================] - 0s 2ms/step - loss: 608.0619\n",
            "Epoch 28/100\n",
            "139/139 [==============================] - 0s 2ms/step - loss: 565.6730\n",
            "Epoch 29/100\n",
            "139/139 [==============================] - 0s 2ms/step - loss: 524.1132\n",
            "Epoch 30/100\n",
            "139/139 [==============================] - 0s 2ms/step - loss: 483.5481\n",
            "Epoch 31/100\n",
            "139/139 [==============================] - 0s 2ms/step - loss: 444.1512\n",
            "Epoch 32/100\n",
            "139/139 [==============================] - 0s 2ms/step - loss: 406.0906\n",
            "Epoch 33/100\n",
            "139/139 [==============================] - 0s 3ms/step - loss: 369.4691\n",
            "Epoch 34/100\n",
            "139/139 [==============================] - 0s 3ms/step - loss: 334.4048\n",
            "Epoch 35/100\n",
            "139/139 [==============================] - 0s 3ms/step - loss: 301.0056\n",
            "Epoch 36/100\n",
            "139/139 [==============================] - 0s 3ms/step - loss: 269.3707\n",
            "Epoch 37/100\n",
            "139/139 [==============================] - 0s 2ms/step - loss: 239.5795\n",
            "Epoch 38/100\n",
            "139/139 [==============================] - 0s 3ms/step - loss: 211.7061\n",
            "Epoch 39/100\n",
            "139/139 [==============================] - 0s 2ms/step - loss: 185.8012\n",
            "Epoch 40/100\n",
            "139/139 [==============================] - 0s 3ms/step - loss: 161.9072\n",
            "Epoch 41/100\n",
            "139/139 [==============================] - 0s 3ms/step - loss: 140.0341\n",
            "Epoch 42/100\n",
            "139/139 [==============================] - 0s 3ms/step - loss: 120.1962\n",
            "Epoch 43/100\n",
            "139/139 [==============================] - 0s 3ms/step - loss: 102.3950\n",
            "Epoch 44/100\n",
            "139/139 [==============================] - 0s 2ms/step - loss: 86.5697\n",
            "Epoch 45/100\n",
            "139/139 [==============================] - 0s 3ms/step - loss: 72.6620\n",
            "Epoch 46/100\n",
            "139/139 [==============================] - 0s 3ms/step - loss: 60.5952\n",
            "Epoch 47/100\n",
            "139/139 [==============================] - 0s 3ms/step - loss: 50.2563\n",
            "Epoch 48/100\n",
            "139/139 [==============================] - 0s 2ms/step - loss: 41.5091\n",
            "Epoch 49/100\n",
            "139/139 [==============================] - 0s 2ms/step - loss: 34.2137\n",
            "Epoch 50/100\n",
            "139/139 [==============================] - 0s 2ms/step - loss: 28.2086\n",
            "Epoch 51/100\n",
            "139/139 [==============================] - 0s 2ms/step - loss: 23.3351\n",
            "Epoch 52/100\n",
            "139/139 [==============================] - 0s 3ms/step - loss: 19.4134\n",
            "Epoch 53/100\n",
            "139/139 [==============================] - 0s 3ms/step - loss: 16.2861\n",
            "Epoch 54/100\n",
            "139/139 [==============================] - 0s 3ms/step - loss: 13.8143\n",
            "Epoch 55/100\n",
            "139/139 [==============================] - 0s 3ms/step - loss: 11.8685\n",
            "Epoch 56/100\n",
            "139/139 [==============================] - 0s 2ms/step - loss: 10.3236\n",
            "Epoch 57/100\n",
            "139/139 [==============================] - 0s 2ms/step - loss: 9.0847\n",
            "Epoch 58/100\n",
            "139/139 [==============================] - 0s 2ms/step - loss: 8.0782\n",
            "Epoch 59/100\n",
            "139/139 [==============================] - 0s 3ms/step - loss: 7.2479\n",
            "Epoch 60/100\n",
            "139/139 [==============================] - 0s 2ms/step - loss: 6.5489\n",
            "Epoch 61/100\n",
            "139/139 [==============================] - 0s 2ms/step - loss: 5.9447\n",
            "Epoch 62/100\n",
            "139/139 [==============================] - 0s 3ms/step - loss: 5.4119\n",
            "Epoch 63/100\n",
            "139/139 [==============================] - 0s 3ms/step - loss: 4.9354\n",
            "Epoch 64/100\n",
            "139/139 [==============================] - 0s 3ms/step - loss: 4.5035\n",
            "Epoch 65/100\n",
            "139/139 [==============================] - 0s 2ms/step - loss: 4.1085\n",
            "Epoch 66/100\n",
            "139/139 [==============================] - 0s 2ms/step - loss: 3.7457\n",
            "Epoch 67/100\n",
            "139/139 [==============================] - 0s 3ms/step - loss: 3.4120\n",
            "Epoch 68/100\n",
            "139/139 [==============================] - 0s 3ms/step - loss: 3.1054\n",
            "Epoch 69/100\n",
            "139/139 [==============================] - 0s 3ms/step - loss: 2.8237\n",
            "Epoch 70/100\n",
            "139/139 [==============================] - 0s 2ms/step - loss: 2.5658\n",
            "Epoch 71/100\n",
            "139/139 [==============================] - 0s 2ms/step - loss: 2.3307\n",
            "Epoch 72/100\n",
            "139/139 [==============================] - 0s 2ms/step - loss: 2.1175\n",
            "Epoch 73/100\n",
            "139/139 [==============================] - 0s 2ms/step - loss: 1.9250\n",
            "Epoch 74/100\n",
            "139/139 [==============================] - 0s 2ms/step - loss: 1.7522\n",
            "Epoch 75/100\n",
            "139/139 [==============================] - 0s 2ms/step - loss: 1.5982\n",
            "Epoch 76/100\n",
            "139/139 [==============================] - 0s 2ms/step - loss: 1.4621\n",
            "Epoch 77/100\n",
            "139/139 [==============================] - 0s 2ms/step - loss: 1.3426\n",
            "Epoch 78/100\n",
            "139/139 [==============================] - 0s 3ms/step - loss: 1.2387\n",
            "Epoch 79/100\n",
            "139/139 [==============================] - 0s 2ms/step - loss: 1.1495\n",
            "Epoch 80/100\n",
            "139/139 [==============================] - 0s 2ms/step - loss: 1.0737\n",
            "Epoch 81/100\n",
            "139/139 [==============================] - 0s 3ms/step - loss: 1.0101\n",
            "Epoch 82/100\n",
            "139/139 [==============================] - 0s 2ms/step - loss: 0.9574\n",
            "Epoch 83/100\n",
            "139/139 [==============================] - 0s 2ms/step - loss: 0.9145\n",
            "Epoch 84/100\n",
            "139/139 [==============================] - 0s 2ms/step - loss: 0.8802\n",
            "Epoch 85/100\n",
            "139/139 [==============================] - 0s 2ms/step - loss: 0.8533\n",
            "Epoch 86/100\n",
            "139/139 [==============================] - 0s 2ms/step - loss: 0.8326\n",
            "Epoch 87/100\n",
            "139/139 [==============================] - 0s 2ms/step - loss: 0.8170\n",
            "Epoch 88/100\n",
            "139/139 [==============================] - 0s 2ms/step - loss: 0.8055\n",
            "Epoch 89/100\n",
            "139/139 [==============================] - 0s 2ms/step - loss: 0.7972\n",
            "Epoch 90/100\n",
            "139/139 [==============================] - 0s 2ms/step - loss: 0.7913\n",
            "Epoch 91/100\n",
            "139/139 [==============================] - 0s 2ms/step - loss: 0.7871\n",
            "Epoch 92/100\n",
            "139/139 [==============================] - 0s 2ms/step - loss: 0.7843\n",
            "Epoch 93/100\n",
            "139/139 [==============================] - 0s 3ms/step - loss: 0.7823\n",
            "Epoch 94/100\n",
            "139/139 [==============================] - 0s 3ms/step - loss: 0.7809\n",
            "Epoch 95/100\n",
            "139/139 [==============================] - 0s 2ms/step - loss: 0.7798\n",
            "Epoch 96/100\n",
            "139/139 [==============================] - 0s 3ms/step - loss: 0.7790\n",
            "Epoch 97/100\n",
            "139/139 [==============================] - 0s 3ms/step - loss: 0.7781\n",
            "Epoch 98/100\n",
            "139/139 [==============================] - 0s 3ms/step - loss: 0.7774\n",
            "Epoch 99/100\n",
            "139/139 [==============================] - 0s 3ms/step - loss: 0.7766\n",
            "Epoch 100/100\n",
            "139/139 [==============================] - 0s 2ms/step - loss: 0.7758\n"
          ]
        }
      ]
    },
    {
      "cell_type": "code",
      "source": [
        "y_pred = lstm.predict(x_test)\n",
        "plt.plot(y_test, label='True Value')\n",
        "plt.plot(y_pred, label='LSTM Value')\n",
        "plt.title(\"Prediction by LSTM\")\n",
        "plt.xlabel('Time Scale')\n",
        "plt.ylabel('Scaled USD')\n",
        "plt.legend()\n",
        "plt.show()\n"
      ],
      "metadata": {
        "colab": {
          "base_uri": "https://localhost:8080/",
          "height": 295
        },
        "id": "JmZF1mqmYNS0",
        "outputId": "a252e176-794c-4538-882e-60ba703f3196"
      },
      "execution_count": null,
      "outputs": [
        {
          "output_type": "display_data",
          "data": {
            "image/png": "[encoded data removed]",
            "text/plain": [
              "<Figure size 432x288 with 1 Axes>"
            ]
          },
          "metadata": {
            "needs_background": "light"
          }
        }
      ]
    }
  ]
}